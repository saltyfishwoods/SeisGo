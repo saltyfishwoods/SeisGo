{
 "cells": [
  {
   "cell_type": "markdown",
   "source": [
    "# Download and Plot Earthquakes\n",
    "### Xiaotao Yang @ Purdue University\n",
    "This notebook contains examples of compliance corrections using data downloaded from IRIS. The functions for tilt and compliance corrections are saved in a separate file: obsmaster.py.\n",
    "### References:\n"
   ],
   "metadata": {}
  },
  {
   "cell_type": "markdown",
   "source": [
    "## Step 0. Import needed packages."
   ],
   "metadata": {}
  },
  {
   "cell_type": "code",
   "execution_count": 1,
   "source": [
    "#import needed packages.\n",
    "from seisgo import utils\n",
    "from seisgo import obsmaster as obs\n",
    "import sys\n",
    "import time\n",
    "import scipy\n",
    "import obspy\n",
    "import pyasdf\n",
    "import datetime\n",
    "import os, glob\n",
    "import numpy as np\n",
    "import pandas as pd\n",
    "import matplotlib.pyplot  as plt\n",
    "from obspy import UTCDateTime\n",
    "from obspy.core import Trace\n",
    "from IPython.display import clear_output\n",
    "from obspy.clients.fdsn import Client\n",
    "from obspy.core.event import Catalog\n",
    "from obspy.geodetics.base import gps2dist_azimuth\n",
    "try:\n",
    "    from obspy.core.event import readEvents\n",
    "except Exception as e:\n",
    "    from obspy import read_events as readEvents"
   ],
   "outputs": [],
   "metadata": {}
  },
  {
   "cell_type": "markdown",
   "source": [
    "## Step 1. Get earthquake catalog with the specified date range.\n",
    "In this example, I only use one day to get the earthquakes. The codes can be modified to work on a broader range of time for earthquake catalog. The earthquake catalog is retrieved from GCMT catalog."
   ],
   "metadata": {}
  },
  {
   "cell_type": "code",
   "execution_count": 2,
   "source": [
    "evt_start= '2011-03-05'\n",
    "evt_end = '2011-03-31'\n",
    "evlon_min = 141\n",
    "evlon_max = 143.5\n",
    "evlat_min = 37\n",
    "evlat_max = 40\n",
    "evmag_min = 5.0\n",
    "evmag_max = 10.0\n",
    "evdep_min = 0\n",
    "evdep_max = 100\n",
    "\n",
    "print('retrieving earthquake catalog, may take a few minutes ...')\n",
    "cat=Catalog()\n",
    "t0=time.time()\n",
    "cat = readEvents('http://www.ldeo.columbia.edu/~gcmt/projects/CMT/catalog/COMBO/combo.ndk')\n",
    "print('it took '+str(time.time() - t0)+' s to get the catalog')\n",
    "# cat=readEvents('./gcmtcombo.ndk')\n",
    "filt1 = 'time >= %s' % evt_start\n",
    "filt2 = 'time <= %s' % evt_end\n",
    "cat = cat.filter(filt1, filt2)\n",
    "\n",
    "filt1 = 'magnitude >= %s' % evmag_min\n",
    "filt2 = 'magnitude <= %s' % evmag_max\n",
    "cat = cat.filter(filt1, filt2)\n",
    "\n",
    "filt1 = 'depth >= %s' % (float(evdep_min)*1000.)\n",
    "filt2 = 'depth <= %s' % (float(evdep_max)*1000.)\n",
    "cat = cat.filter(filt1, filt2)\n",
    "\n",
    "if None not in [evlat_min, evlat_max, evlon_min, evlon_max]:\n",
    "    filt1 = 'latitude >= %s' % evlat_min\n",
    "    filt2 = 'latitude <= %s' % evlat_max\n",
    "    cat = cat.filter(filt1, filt2)\n",
    "\n",
    "    filt1 = 'longitude >= %s' % evlon_min\n",
    "    filt2 = 'longitude <= %s' % evlon_max\n",
    "    cat = cat.filter(filt1, filt2)\n",
    "\n",
    "#\n",
    "events=utils.qml_to_event_list(cat)\n"
   ],
   "outputs": [
    {
     "output_type": "stream",
     "name": "stdout",
     "text": [
      "retrieving earthquake catalog, may take a few minutes ...\n",
      "it took 222.33445763587952 s to get the catalog\n"
     ]
    },
    {
     "output_type": "stream",
     "name": "stderr",
     "text": [
      "/usr/local/anaconda3/envs/seispy/lib/python3.7/site-packages/obspy/core/util/attribdict.py:97: UserWarning: Setting attribute \"preferred_mag\" which is not a default attribute (\"event_descriptions\", \"comments\", \"picks\", \"amplitudes\", \"focal_mechanisms\", \"origins\", \"magnitudes\", \"station_magnitudes\", \"resource_id\", \"event_type\", \"event_type_certainty\", \"creation_info\", \"preferred_origin_id\", \"preferred_magnitude_id\", \"preferred_focal_mechanism_id\").\n",
      "  warnings.warn(msg)\n",
      "/usr/local/anaconda3/envs/seispy/lib/python3.7/site-packages/obspy/core/util/attribdict.py:97: UserWarning: Setting attribute \"preferred_mag_type\" which is not a default attribute (\"event_descriptions\", \"comments\", \"picks\", \"amplitudes\", \"focal_mechanisms\", \"origins\", \"magnitudes\", \"station_magnitudes\", \"resource_id\", \"event_type\", \"event_type_certainty\", \"creation_info\", \"preferred_origin_id\", \"preferred_magnitude_id\", \"preferred_focal_mechanism_id\").\n",
      "  warnings.warn(msg)\n",
      "/usr/local/anaconda3/envs/seispy/lib/python3.7/site-packages/obspy/core/util/attribdict.py:97: UserWarning: Setting attribute \"preferred_author\" which is not a default attribute (\"event_descriptions\", \"comments\", \"picks\", \"amplitudes\", \"focal_mechanisms\", \"origins\", \"magnitudes\", \"station_magnitudes\", \"resource_id\", \"event_type\", \"event_type_certainty\", \"creation_info\", \"preferred_origin_id\", \"preferred_magnitude_id\", \"preferred_focal_mechanism_id\").\n",
      "  warnings.warn(msg)\n"
     ]
    }
   ],
   "metadata": {}
  },
  {
   "cell_type": "code",
   "execution_count": 12,
   "source": [
    "#plotting\n",
    "plt.figure(figsize=(8, 8))\n",
    "ax=plt.subplot()\n",
    "for i in range(len(events)):\n",
    "    evlon=events[i]['longitude']\n",
    "    evlat=events[i]['latitude']\n",
    "    mag=events[i]['magnitude']\n",
    "    if mag>8:\n",
    "        plt.plot(evlon,evlat,'*r', markersize=12)\n",
    "    else:\n",
    "        plt.plot(evlon,evlat,'ob', markersize=10)\n",
    "\n",
    "ax.set_aspect(aspect=np.cos(np.mean([evlat_min,evlat_max])))\n",
    "# plt.savefig(ev['event_id']+'_receivermapwithdata.png')\n",
    "plt.show()\n",
    "\n",
    "plt.figure(figsize=(8, 8))\n",
    "ax=plt.subplot()\n",
    "for i in range(len(events)):\n",
    "    mag=events[i]['magnitude']\n",
    "    if mag>8:\n",
    "        plt.plot(i,mag,'*r', markersize=12)\n",
    "    else:\n",
    "        plt.plot(i,mag,'ob', markersize=10)\n",
    "# plt.savefig(ev['event_id']+'_receivermapwithdata.png')\n",
    "plt.show()"
   ],
   "outputs": [
    {
     "output_type": "display_data",
     "data": {
      "image/png": "[encoded data removed]",
      "text/plain": [
       "<Figure size 576x576 with 1 Axes>"
      ]
     },
     "metadata": {
      "needs_background": "light"
     }
    },
    {
     "output_type": "display_data",
     "data": {
      "image/png": "[encoded data removed]",
      "text/plain": [
       "<Figure size 576x576 with 1 Axes>"
      ]
     },
     "metadata": {
      "needs_background": "light"
     }
    }
   ],
   "metadata": {}
  },
  {
   "cell_type": "code",
   "execution_count": 7,
   "source": [
    "print(len(events))"
   ],
   "outputs": [
    {
     "output_type": "stream",
     "name": "stdout",
     "text": [
      "82\n"
     ]
    }
   ],
   "metadata": {}
  },
  {
   "cell_type": "code",
   "execution_count": null,
   "source": [],
   "outputs": [],
   "metadata": {}
  }
 ],
 "metadata": {
  "@webio": {
   "lastCommId": null,
   "lastKernelId": null
  },
  "kernelspec": {
   "display_name": "Python 3",
   "language": "python",
   "name": "python3"
  },
  "language_info": {
   "codemirror_mode": {
    "name": "ipython",
    "version": 3
   },
   "file_extension": ".py",
   "mimetype": "text/x-python",
   "name": "python",
   "nbconvert_exporter": "python",
   "pygments_lexer": "ipython3",
   "version": "3.7.6"
  }
 },
 "nbformat": 4,
 "nbformat_minor": 2
}